{
  "nbformat": 4,
  "nbformat_minor": 0,
  "metadata": {
    "colab": {
      "name": "WeightLossClassifier_HoustonLangford.ipynb",
      "provenance": [],
      "collapsed_sections": []
    },
    "kernelspec": {
      "name": "python3",
      "display_name": "Python 3"
    },
    "language_info": {
      "name": "python"
    }
  },
  "cells": [
    {
      "cell_type": "markdown",
      "source": [
        "# Weight Loss Classifier\n",
        "### Written by Houston Langford\n",
        "\n",
        "This model is trained on data from a weight loss study done by an individual. Data from https://www.kaggle.com/datasets/chrisbow/2018-calorie-exercise-and-weight-changes?resource=download"
      ],
      "metadata": {
        "id": "hIO5N5RtgXL5"
      }
    },
    {
      "cell_type": "markdown",
      "source": [
        "### Load in Data"
      ],
      "metadata": {
        "id": "OwwIKRRfpMsq"
      }
    },
    {
      "cell_type": "code",
      "execution_count": 1,
      "metadata": {
        "colab": {
          "base_uri": "https://localhost:8080/"
        },
        "id": "8j1bNGlzgK6N",
        "outputId": "36a952d8-9c89-44c4-904f-1423c32d0e59"
      },
      "outputs": [
        {
          "output_type": "stream",
          "name": "stdout",
          "text": [
            "           Date  Stone  Pounds  Ounces  weight_oz  calories cals_per_oz  \\\n",
            "0     7/30/2018   12.0     2.0     6.0     2726.0    1950.0        0.72   \n",
            "1     7/31/2018   12.0     0.0     8.0     2696.0    2600.0        0.96   \n",
            "2      8/1/2018   12.0     1.0     0.0     2704.0    2500.0        0.92   \n",
            "3      8/2/2018   12.0     1.0     0.0     2704.0    1850.0        0.68   \n",
            "4      8/3/2018   11.0    12.0     8.0     2664.0    2900.0        1.09   \n",
            "..          ...    ...     ...     ...        ...       ...         ...   \n",
            "146  12/23/2018    NaN     NaN     NaN        0.0       NaN     #DIV/0!   \n",
            "147  12/24/2018    NaN     NaN     NaN        0.0       NaN     #DIV/0!   \n",
            "148  12/25/2018    NaN     NaN     NaN        0.0       NaN     #DIV/0!   \n",
            "149  12/26/2018    NaN     NaN     NaN        0.0       NaN     #DIV/0!   \n",
            "150         NaN    NaN     NaN     NaN        0.0       NaN         NaN   \n",
            "\n",
            "     five_donuts  walk  run  wine  prot  weight  change  \n",
            "0            1.0   1.0  0.0   0.0   0.0     0.0   -30.0  \n",
            "1            1.0   0.0  0.0   0.0   0.0     0.0     8.0  \n",
            "2            1.0   1.0  0.0   0.0   0.0     0.0     0.0  \n",
            "3            1.0   1.0  0.0   1.0   0.0     0.0   -40.0  \n",
            "4            1.0   1.0  0.0   0.0   0.0     0.0    14.0  \n",
            "..           ...   ...  ...   ...   ...     ...     ...  \n",
            "146          NaN   NaN  NaN   NaN   NaN     NaN     0.0  \n",
            "147          NaN   NaN  NaN   NaN   NaN     NaN     0.0  \n",
            "148          NaN   NaN  NaN   NaN   NaN     NaN     0.0  \n",
            "149          NaN   NaN  NaN   NaN   NaN     NaN     0.0  \n",
            "150          NaN   NaN  NaN   NaN   NaN     NaN     NaN  \n",
            "\n",
            "[151 rows x 14 columns]\n"
          ]
        }
      ],
      "source": [
        "import numpy as np\n",
        "import pandas as pd\n",
        "from google.colab import files\n",
        "\n",
        "\n",
        "dataset = pd.read_csv (r'/content/drive/My Drive/Colab Notebooks/diet_data.csv')\n",
        "print(dataset)"
      ]
    },
    {
      "cell_type": "markdown",
      "source": [
        "### Data Preprocessing: Remove Null Values"
      ],
      "metadata": {
        "id": "UTdDzJ7isS_5"
      }
    },
    {
      "cell_type": "code",
      "source": [
        "dataset.dropna(axis = 0, inplace = True)\n",
        "print(dataset)"
      ],
      "metadata": {
        "colab": {
          "base_uri": "https://localhost:8080/"
        },
        "id": "XGAr60iPsw06",
        "outputId": "9e1eee0f-f17a-42ea-a4f9-a9119c3562d5"
      },
      "execution_count": 2,
      "outputs": [
        {
          "output_type": "stream",
          "name": "stdout",
          "text": [
            "           Date  Stone  Pounds  Ounces  weight_oz  calories cals_per_oz  \\\n",
            "0     7/30/2018   12.0     2.0     6.0     2726.0    1950.0        0.72   \n",
            "1     7/31/2018   12.0     0.0     8.0     2696.0    2600.0        0.96   \n",
            "2      8/1/2018   12.0     1.0     0.0     2704.0    2500.0        0.92   \n",
            "3      8/2/2018   12.0     1.0     0.0     2704.0    1850.0        0.68   \n",
            "4      8/3/2018   11.0    12.0     8.0     2664.0    2900.0        1.09   \n",
            "..          ...    ...     ...     ...        ...       ...         ...   \n",
            "138  12/15/2018   11.0    11.0     0.0     2640.0    5750.0        2.18   \n",
            "139  12/16/2018   11.0    12.0     0.0     2656.0    2950.0        1.11   \n",
            "140  12/17/2018   11.0    12.0     0.0     2656.0    1950.0        0.73   \n",
            "141  12/18/2018   11.0    10.0     8.0     2632.0    1900.0        0.72   \n",
            "142  12/19/2018   11.0    10.0     4.0     2628.0    1500.0        0.57   \n",
            "\n",
            "     five_donuts  walk  run  wine  prot  weight  change  \n",
            "0            1.0   1.0  0.0   0.0   0.0     0.0   -30.0  \n",
            "1            1.0   0.0  0.0   0.0   0.0     0.0     8.0  \n",
            "2            1.0   1.0  0.0   0.0   0.0     0.0     0.0  \n",
            "3            1.0   1.0  0.0   1.0   0.0     0.0   -40.0  \n",
            "4            1.0   1.0  0.0   0.0   0.0     0.0    14.0  \n",
            "..           ...   ...  ...   ...   ...     ...     ...  \n",
            "138          0.0   0.0  0.0   0.0   0.0     0.0    16.0  \n",
            "139          0.0   1.0  1.0   0.0   0.0     0.0     0.0  \n",
            "140          1.0   1.0  0.0   0.0   0.0     0.0   -24.0  \n",
            "141          0.0   1.0  0.0   0.0   0.0     0.0    -4.0  \n",
            "142          0.0   1.0  0.0   1.0   0.0     0.0   -30.0  \n",
            "\n",
            "[140 rows x 14 columns]\n"
          ]
        }
      ]
    },
    {
      "cell_type": "code",
      "source": [
        "X = dataset.iloc[:, 1:-1]\n",
        "Y = dataset.iloc[:, -1]"
      ],
      "metadata": {
        "id": "aab5bAGfx2US"
      },
      "execution_count": 3,
      "outputs": []
    },
    {
      "cell_type": "markdown",
      "source": [
        "### Data Preprocessing: Set y to either 1 or -1\n",
        "If there's a negative weight change set y to -1, and if there's a positive or no change, set to 1."
      ],
      "metadata": {
        "id": "Wc_1A03L37o7"
      }
    },
    {
      "cell_type": "code",
      "source": [
        "def classify_y(df):\n",
        "  df[df<0]=-1\n",
        "  df[df>=0]=1\n",
        "  return df\n",
        "Y = classify_y(Y)\n",
        "print(Y)"
      ],
      "metadata": {
        "colab": {
          "base_uri": "https://localhost:8080/"
        },
        "id": "xXfqj1WP4Tvl",
        "outputId": "f5535ec6-da09-40e7-e091-02829dd3d7c5"
      },
      "execution_count": 4,
      "outputs": [
        {
          "output_type": "stream",
          "name": "stdout",
          "text": [
            "0     -1.0\n",
            "1      1.0\n",
            "2      1.0\n",
            "3     -1.0\n",
            "4      1.0\n",
            "      ... \n",
            "138    1.0\n",
            "139    1.0\n",
            "140   -1.0\n",
            "141   -1.0\n",
            "142   -1.0\n",
            "Name: change, Length: 140, dtype: float64\n"
          ]
        },
        {
          "output_type": "stream",
          "name": "stderr",
          "text": [
            "/usr/local/lib/python3.7/dist-packages/ipykernel_launcher.py:2: SettingWithCopyWarning: \n",
            "A value is trying to be set on a copy of a slice from a DataFrame\n",
            "\n",
            "See the caveats in the documentation: https://pandas.pydata.org/pandas-docs/stable/user_guide/indexing.html#returning-a-view-versus-a-copy\n",
            "  \n",
            "/usr/local/lib/python3.7/dist-packages/ipykernel_launcher.py:3: SettingWithCopyWarning: \n",
            "A value is trying to be set on a copy of a slice from a DataFrame\n",
            "\n",
            "See the caveats in the documentation: https://pandas.pydata.org/pandas-docs/stable/user_guide/indexing.html#returning-a-view-versus-a-copy\n",
            "  This is separate from the ipykernel package so we can avoid doing imports until\n"
          ]
        }
      ]
    },
    {
      "cell_type": "markdown",
      "source": [
        "### Data Preprocessing: Split into X and Y train and test Values"
      ],
      "metadata": {
        "id": "p6cxQ9UmsKIX"
      }
    },
    {
      "cell_type": "code",
      "source": [
        "from sklearn.model_selection import train_test_split\n",
        "X_train, X_test, y_train, y_test = train_test_split(X, Y, test_size = 0.2, random_state = 2)"
      ],
      "metadata": {
        "id": "WRkl-JEPsnY1"
      },
      "execution_count": 5,
      "outputs": []
    },
    {
      "cell_type": "markdown",
      "source": [
        "### Create Logistic Regression Model"
      ],
      "metadata": {
        "id": "Z8lAaRuwz_Xq"
      }
    },
    {
      "cell_type": "code",
      "source": [
        "from sklearn.linear_model import LogisticRegression\n",
        "logisticRegressor = LogisticRegression(max_iter=500)\n",
        "logisticRegressor.fit(X_train, y_train)"
      ],
      "metadata": {
        "colab": {
          "base_uri": "https://localhost:8080/"
        },
        "id": "3Vx-F0Ur0GEz",
        "outputId": "13ff3906-51b8-43eb-e17d-3cb6646ed14a"
      },
      "execution_count": 19,
      "outputs": [
        {
          "output_type": "execute_result",
          "data": {
            "text/plain": [
              "LogisticRegression(max_iter=500)"
            ]
          },
          "metadata": {},
          "execution_count": 19
        }
      ]
    },
    {
      "cell_type": "markdown",
      "source": [
        "### Accuracy of model"
      ],
      "metadata": {
        "id": "JArjf6lO14kN"
      }
    },
    {
      "cell_type": "code",
      "source": [
        "test_score = logisticRegressor.score(X_test, y_test)\n",
        "train_score = logisticRegressor.score(X_train, y_train)\n",
        "print(\"Test set Accuracy: \" +str(test_score))\n",
        "print(\"Training set Accuracy: \" +str(train_score))"
      ],
      "metadata": {
        "colab": {
          "base_uri": "https://localhost:8080/"
        },
        "id": "XhTMp9Sx1367",
        "outputId": "2ff79e85-71f4-4b85-ffe0-2c69204b0f9b"
      },
      "execution_count": 37,
      "outputs": [
        {
          "output_type": "stream",
          "name": "stdout",
          "text": [
            "Test set Accuracy: 0.8928571428571429\n",
            "Training set Accuracy: 0.875\n"
          ]
        }
      ]
    },
    {
      "cell_type": "markdown",
      "source": [
        "### Create Decision Tree Model with different max depths"
      ],
      "metadata": {
        "id": "x2S338G8jGwm"
      }
    },
    {
      "cell_type": "code",
      "source": [
        "from sklearn.tree import DecisionTreeClassifier\n",
        "val_accuracies = []\n",
        "test_accuracies = []\n",
        "for i in range(1, 20):\n",
        "  tree = DecisionTreeClassifier(max_depth=i)\n",
        "  tree.fit(X_train, y_train)\n",
        "  val_accuracies.append(tree.score(X_train, y_train))\n",
        "  test_accuracies.append(tree.score(X_test, y_test))"
      ],
      "metadata": {
        "id": "effDQrIUjX9Y"
      },
      "execution_count": 8,
      "outputs": []
    },
    {
      "cell_type": "markdown",
      "source": [
        "### Plot accuracy as a function of max depth"
      ],
      "metadata": {
        "id": "yPUiixoJr1bh"
      }
    },
    {
      "cell_type": "code",
      "source": [
        "import matplotlib.pyplot as plt\n",
        "plt.plot(val_accuracies, label='Validation Accuracy')\n",
        "plt.plot(test_accuracies, label='Test Accuracy')\n",
        "plt.title('Accuracies over tree depth')\n",
        "plt.xticks(np.arange(0, len(test_accuracies), 2))\n",
        "plt.ylabel('Accuracy')\n",
        "plt.xlabel('Max Tree Depth')\n",
        "plt.legend(loc='lower right')\n",
        "plt.show()\n",
        "\n",
        "print(\"Max Val Accuracy: \" + str(val_accuracies[6]))\n",
        "print(\"Max Test Accuracy: \" + str(test_accuracies[3]))"
      ],
      "metadata": {
        "colab": {
          "base_uri": "https://localhost:8080/",
          "height": 329
        },
        "id": "0N1ABaUMrDYW",
        "outputId": "15aa99c4-e043-4ddf-b8d0-cebd8226f04d"
      },
      "execution_count": 9,
      "outputs": [
        {
          "output_type": "display_data",
          "data": {
            "text/plain": [
              "<Figure size 432x288 with 1 Axes>"
            ],
            "image/png": "[encoded data removed]"
          },
          "metadata": {
            "needs_background": "light"
          }
        },
        {
          "output_type": "stream",
          "name": "stdout",
          "text": [
            "Max Val Accuracy: 1.0\n",
            "Max Test Accuracy: 0.8571428571428571\n"
          ]
        }
      ]
    },
    {
      "cell_type": "markdown",
      "source": [
        "### Create Kernel Perceptron Model"
      ],
      "metadata": {
        "id": "u4yzWOWNwvVr"
      }
    },
    {
      "cell_type": "code",
      "source": [
        "from sklearn.linear_model import Perceptron\n",
        "iters = 5\n",
        "val_accuracies = []\n",
        "test_accuracies = []\n",
        "tick_marks = []\n",
        "while iters<=100:\n",
        "  perceptron = Perceptron(max_iter = iters, eta0 = .1)\n",
        "  perceptron.fit(X_train, y_train)\n",
        "  val_accuracies.append(perceptron.score(X_train, y_train))\n",
        "  test_accuracies.append(perceptron.score(X_test, y_test))\n",
        "  tick_marks.append(iters)\n",
        "  iters+=5\n",
        "\n"
      ],
      "metadata": {
        "colab": {
          "base_uri": "https://localhost:8080/"
        },
        "id": "Q6hS7AVtxjjH",
        "outputId": "d49aaa1c-b5eb-4ac3-f3cb-eda04a41ce81"
      },
      "execution_count": 29,
      "outputs": [
        {
          "output_type": "stream",
          "name": "stderr",
          "text": [
            "/usr/local/lib/python3.7/dist-packages/sklearn/linear_model/_stochastic_gradient.py:700: ConvergenceWarning: Maximum number of iteration reached before convergence. Consider increasing max_iter to improve the fit.\n",
            "  ConvergenceWarning,\n",
            "/usr/local/lib/python3.7/dist-packages/sklearn/linear_model/_stochastic_gradient.py:700: ConvergenceWarning: Maximum number of iteration reached before convergence. Consider increasing max_iter to improve the fit.\n",
            "  ConvergenceWarning,\n"
          ]
        }
      ]
    },
    {
      "cell_type": "markdown",
      "source": [
        "### Accuracy of Perceptron"
      ],
      "metadata": {
        "id": "ll6bzc4E0pjG"
      }
    },
    {
      "cell_type": "code",
      "source": [
        "plt.plot(val_accuracies, label='Validation Accuracy')\n",
        "plt.plot(test_accuracies, label='Test Accuracy')\n",
        "plt.title('Accuracies over iterations (Perceptron)')\n",
        "\n",
        "plt.xticks(np.arange(0, len(test_accuracies)), tick_marks)\n",
        "plt.ylabel('Accuracy')\n",
        "plt.xlabel('Max Tree Depth')\n",
        "plt.legend(loc='lower right')\n",
        "plt.show()\n",
        "\n",
        "print(\"Max Val Accuracy: \" + str(val_accuracies[1]))\n",
        "print(\"Max Test Accuracy: \" + str(test_accuracies[1]))"
      ],
      "metadata": {
        "colab": {
          "base_uri": "https://localhost:8080/",
          "height": 329
        },
        "id": "IkhZfy5v0v3m",
        "outputId": "f9ffca48-4a08-4f50-f2ed-2b713ee99483"
      },
      "execution_count": 35,
      "outputs": [
        {
          "output_type": "display_data",
          "data": {
            "text/plain": [
              "<Figure size 432x288 with 1 Axes>"
            ],
            "image/png": "[encoded data removed]"
          },
          "metadata": {
            "needs_background": "light"
          }
        },
        {
          "output_type": "stream",
          "name": "stdout",
          "text": [
            "Max Val Accuracy: 0.8482142857142857\n",
            "Max Test Accuracy: 0.8928571428571429\n"
          ]
        }
      ]
    }
  ]
}